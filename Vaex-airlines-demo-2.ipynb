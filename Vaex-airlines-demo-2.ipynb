{
 "cells": [
  {
   "cell_type": "markdown",
   "metadata": {},
   "source": [
    "# The power of the expressions\n",
    "\n",
    "# What happens on the \"server\" side...\n",
    "\n"
   ]
  },
  {
   "cell_type": "code",
   "execution_count": 1,
   "metadata": {
    "ExecuteTime": {
     "end_time": "2018-06-21T09:32:08.006106Z",
     "start_time": "2018-06-21T09:32:07.061440Z"
    }
   },
   "outputs": [],
   "source": [
    "import lightgbm\n",
    "import numpy as np\n",
    "from sklearn.metrics import roc_auc_score, accuracy_score\n",
    "\n",
    "import vaex \n",
    "import vaex.ml"
   ]
  },
  {
   "cell_type": "markdown",
   "metadata": {},
   "source": [
    "## Read in the relevant files"
   ]
  },
  {
   "cell_type": "code",
   "execution_count": 2,
   "metadata": {
    "ExecuteTime": {
     "end_time": "2018-06-21T09:32:09.327077Z",
     "start_time": "2018-06-21T09:32:08.586681Z"
    }
   },
   "outputs": [],
   "source": [
    "# ### Read and convert to HDF5 all CSV files in the relevant directory\n",
    "# ds = vaex.open(path='./airline-data/20*.csv', convert='airline-data.hdf5')\n",
    "\n",
    "ds = vaex.open('./airline-data/my2008.hdf5')\n",
    "# ds = vaex.open('/Users/jovan/Desktop/airlines-test.hdf5')\n",
    "\n",
    "ds.set_active_fraction(value=0.2)\n",
    "ds = ds.trim()\n"
   ]
  },
  {
   "cell_type": "markdown",
   "metadata": {},
   "source": [
    "### Train / test split (identical to the split in the previous notebook)"
   ]
  },
  {
   "cell_type": "code",
   "execution_count": 7,
   "metadata": {
    "ExecuteTime": {
     "end_time": "2018-06-21T09:34:30.568799Z",
     "start_time": "2018-06-21T09:34:30.564481Z"
    }
   },
   "outputs": [
    {
     "name": "stderr",
     "output_type": "stream",
     "text": [
      "/Users/jovan/Work/vaex/packages/vaex-core/vaex/ml/__init__.py:176: UserWarning: make sure the dataset is shuffled\n",
      "  warnings.warn('make sure the dataset is shuffled')\n"
     ]
    }
   ],
   "source": [
    "ds_train, ds_test = ds.ml.train_test_split(test_size=0.25)"
   ]
  },
  {
   "cell_type": "code",
   "execution_count": 8,
   "metadata": {
    "ExecuteTime": {
     "end_time": "2018-06-21T09:34:31.281625Z",
     "start_time": "2018-06-21T09:34:31.269799Z"
    }
   },
   "outputs": [
    {
     "data": {
      "text/html": [
       "<style>.vaex-description pre {\n",
       "          max-width : 450px;\n",
       "          white-space : nowrap;\n",
       "          overflow : hidden;\n",
       "          text-overflow: ellipsis;\n",
       "        }\n",
       "\n",
       "        .vex-description pre:hover {\n",
       "          max-width : initial;\n",
       "          white-space: pre;\n",
       "        }</style>"
      ],
      "text/plain": [
       "<IPython.core.display.HTML object>"
      ]
     },
     "metadata": {},
     "output_type": "display_data"
    },
    {
     "data": {
      "text/html": [
       "<table class='table-striped'><thead><tr><th>#</th><th>Year</th><th>Month</th><th>DayofMonth</th><th>DayOfWeek</th><th>CRSDepTime</th><th>UniqueCarrier</th><th>FlightNum</th><th>DepDelay</th><th>Origin</th><th>Dest</th><th>Distance</th><th>Cancelled</th><th>LateAircraftDelay</th><th>random_index</th></tr></thead><tr><td><i style='opacity: 0.6'>0</i></td><td>2008.0</td><td>7.0</td><td>21.0</td><td>1.0</td><td>1325.0</td><td>b'AS'</td><td>852.0</td><td>7.0</td><td>b'HNL'</td><td>b'SEA'</td><td>2677.0</td><td>0.0</td><td>nan</td><td>3837252.0</td></tr><tr><td><i style='opacity: 0.6'>1</i></td><td>2008.0</td><td>12.0</td><td>6.0</td><td>6.0</td><td>1733.0</td><td>b'9E'</td><td>2918.0</td><td>-5.0</td><td>b'DTW'</td><td>b'ITH'</td><td>353.0</td><td>0.0</td><td>0.0</td><td>6177194.0</td></tr><tr><td><i style='opacity: 0.6'>2</i></td><td>2008.0</td><td>2.0</td><td>9.0</td><td>6.0</td><td>1345.0</td><td>b'XE'</td><td>2790.0</td><td>50.0</td><td>b'RDU'</td><td>b'EWR'</td><td>416.0</td><td>0.0</td><td>48.0</td><td>1489537.0</td></tr><tr><td><i style='opacity: 0.6'>3</i></td><td>2008.0</td><td>11.0</td><td>30.0</td><td>7.0</td><td>1802.0</td><td>b'US'</td><td>1511.0</td><td>-7.0</td><td>b'PHX'</td><td>b'LAX'</td><td>370.0</td><td>0.0</td><td>nan</td><td>6487323.0</td></tr><tr><td><i style='opacity: 0.6'>4</i></td><td>2008.0</td><td>6.0</td><td>25.0</td><td>3.0</td><td>955.0</td><td>b'US'</td><td>320.0</td><td>22.0</td><td>b'LAS'</td><td>b'ORD'</td><td>1515.0</td><td>0.0</td><td>0.0</td><td>762415.0</td></tr><td>...</td><td>...</td><td>...</td><td>...</td><td>...</td><td>...</td><td>...</td><td>...</td><td>...</td><td>...</td><td>...</td><td>...</td><td>...</td><td>...</td><td>...</td><tr><td><i style='opacity: 0.6'>350,481</i></td><td>2008.0</td><td>1.0</td><td>8.0</td><td>2.0</td><td>1530.0</td><td>b'XE'</td><td>2370.0</td><td>-2.0</td><td>b'CLE'</td><td>b'MHT'</td><td>544.0</td><td>0.0</td><td>nan</td><td>3368336.0</td></tr><tr><td><i style='opacity: 0.6'>350,482</i></td><td>2008.0</td><td>9.0</td><td>21.0</td><td>7.0</td><td>1000.0</td><td>b'WN'</td><td>2190.0</td><td>-2.0</td><td>b'LAX'</td><td>b'SJC'</td><td>308.0</td><td>0.0</td><td>nan</td><td>4427900.0</td></tr><tr><td><i style='opacity: 0.6'>350,483</i></td><td>2008.0</td><td>5.0</td><td>30.0</td><td>5.0</td><td>2010.0</td><td>b'CO'</td><td>501.0</td><td>11.0</td><td>b'EWR'</td><td>b'FLL'</td><td>1065.0</td><td>0.0</td><td>0.0</td><td>5655604.0</td></tr><tr><td><i style='opacity: 0.6'>350,484</i></td><td>2008.0</td><td>4.0</td><td>28.0</td><td>1.0</td><td>2300.0</td><td>b'US'</td><td>1738.0</td><td>nan</td><td>b'PHL'</td><td>b'BOS'</td><td>280.0</td><td>1.0</td><td>nan</td><td>720409.0</td></tr><tr><td><i style='opacity: 0.6'>350,485</i></td><td>2008.0</td><td>10.0</td><td>21.0</td><td>2.0</td><td>920.0</td><td>b'MQ'</td><td>3766.0</td><td>-3.0</td><td>b'ABI'</td><td>b'DFW'</td><td>158.0</td><td>0.0</td><td>nan</td><td>5406704.0</td></tr></table>"
      ],
      "text/plain": [
       "<vaex.dataset.DatasetArrays at 0x1a36c34898>"
      ]
     },
     "execution_count": 8,
     "metadata": {},
     "output_type": "execute_result"
    }
   ],
   "source": [
    "### Take a look inside\n",
    "ds_test"
   ]
  },
  {
   "cell_type": "markdown",
   "metadata": {},
   "source": [
    "### Load the state _into_ the test set: _everything_ done on the train set is applied seamlessly to the test set"
   ]
  },
  {
   "cell_type": "code",
   "execution_count": 9,
   "metadata": {
    "ExecuteTime": {
     "end_time": "2018-06-21T09:34:41.264462Z",
     "start_time": "2018-06-21T09:34:41.196480Z"
    }
   },
   "outputs": [],
   "source": [
    "ds_test.state_load('/Users/jovan/Desktop/deployable_model.json')"
   ]
  },
  {
   "cell_type": "code",
   "execution_count": 10,
   "metadata": {
    "ExecuteTime": {
     "end_time": "2018-06-21T09:34:50.754701Z",
     "start_time": "2018-06-21T09:34:46.319924Z"
    }
   },
   "outputs": [
    {
     "data": {
      "text/html": [
       "<style>.vaex-description pre {\n",
       "          max-width : 450px;\n",
       "          white-space : nowrap;\n",
       "          overflow : hidden;\n",
       "          text-overflow: ellipsis;\n",
       "        }\n",
       "\n",
       "        .vex-description pre:hover {\n",
       "          max-width : initial;\n",
       "          white-space: pre;\n",
       "        }</style>"
      ],
      "text/plain": [
       "<IPython.core.display.HTML object>"
      ]
     },
     "metadata": {},
     "output_type": "display_data"
    },
    {
     "data": {
      "text/html": [
       "<table class='table-striped'><thead><tr><th>#</th><th>Year</th><th>Month</th><th>DayofMonth</th><th>DayOfWeek</th><th>CRSDepTime</th><th>UniqueCarrier</th><th>FlightNum</th><th>DepDelay</th><th>Origin</th><th>Dest</th><th>Distance</th><th>Cancelled</th><th>random_index</th><th>LateAircraftDelay</th><th>label_encoded_UniqueCarrier</th><th>label_encoded_Origin</th><th>label_encoded_Dest</th><th>PCA_0</th><th>PCA_1</th><th>PCA_2</th><th>PCA_3</th><th>PCA_4</th><th>standard_scaled_PCA_0</th><th>standard_scaled_PCA_1</th><th>standard_scaled_PCA_2</th><th>standard_scaled_PCA_3</th><th>standard_scaled_PCA_4</th><th>label</th><th>lightgbm_prediction</th></tr></thead><tr><td><i style='opacity: 0.6'>0</i></td><td>2008.0</td><td>7.0</td><td>21.0</td><td>1.0</td><td>1325.0</td><td>b'AS'</td><td>852.0</td><td>7.0</td><td>b'HNL'</td><td>b'SEA'</td><td>2677.0</td><td>0.0</td><td>3837252.0</td><td>0.0</td><td>3</td><td>129</td><td>257</td><td>-1562.3013429814725</td><td>1785.7400658603747</td><td>-124.58078446717738</td><td>46.366740540931481</td><td>84.643420906382261</td><td>-0.79365370475898533</td><td>3.3928475383421182</td><td>-0.26877264051359268</td><td>0.57152445118173711</td><td>1.063459647273336</td><td>0</td><td>0.12668758846864228</td></tr><tr><td><i style='opacity: 0.6'>1</i></td><td>2008.0</td><td>12.0</td><td>6.0</td><td>6.0</td><td>1733.0</td><td>b'9E'</td><td>2918.0</td><td>-5.0</td><td>b'DTW'</td><td>b'ITH'</td><td>353.0</td><td>0.0</td><td>6177194.0</td><td>0.0</td><td>0</td><td>87</td><td>145</td><td>741.18548232278386</td><td>-327.57556915042363</td><td>-387.77239939200541</td><td>-36.154825622926275</td><td>41.826107727496378</td><td>0.37652441803349884</td><td>-0.62238283424388008</td><td>-0.83658657431507566</td><td>-0.44565062436237451</td><td>0.52550307270657515</td><td>0</td><td>0.22054036982337991</td></tr><tr><td><i style='opacity: 0.6'>2</i></td><td>2008.0</td><td>2.0</td><td>9.0</td><td>6.0</td><td>1345.0</td><td>b'XE'</td><td>2790.0</td><td>50.0</td><td>b'RDU'</td><td>b'EWR'</td><td>416.0</td><td>0.0</td><td>1489537.0</td><td>48.0</td><td>18</td><td>236</td><td>97</td><td>608.07591847485207</td><td>-250.1155574162359</td><td>-3.1094668151635219</td><td>18.018256126845266</td><td>-101.83255339638077</td><td>0.30890436575526398</td><td>-0.4752113532670742</td><td>-0.0067084150262442365</td><td>0.22209613667056219</td><td>-1.2794238483772415</td><td>1</td><td>0.24329301033945996</td></tr><tr><td><i style='opacity: 0.6'>3</i></td><td>2008.0</td><td>11.0</td><td>30.0</td><td>7.0</td><td>1802.0</td><td>b'US'</td><td>1511.0</td><td>-7.0</td><td>b'PHX'</td><td>b'LAX'</td><td>370.0</td><td>0.0</td><td>6487323.0</td><td>0.0</td><td>16</td><td>220</td><td>158</td><td>-659.78185610246408</td><td>-465.258973511156</td><td>-442.53229964890295</td><td>56.313647839744682</td><td>-54.960602670441595</td><td>-0.33517113505719509</td><td>-0.8839767853942142</td><td>-0.95472648689673845</td><td>0.69413174832161972</td><td>-0.69052482170449103</td><td>0</td><td>0.30878386066362623</td></tr><tr><td><i style='opacity: 0.6'>4</i></td><td>2008.0</td><td>6.0</td><td>25.0</td><td>3.0</td><td>955.0</td><td>b'US'</td><td>320.0</td><td>22.0</td><td>b'LAS'</td><td>b'ORD'</td><td>1515.0</td><td>0.0</td><td>762415.0</td><td>0.0</td><td>16</td><td>155</td><td>211</td><td>-1964.9511300656252</td><td>602.76009409942537</td><td>332.76438314073278</td><td>42.242788149591433</td><td>37.228074063001458</td><td>-0.99820098795462175</td><td>1.1452244033572585</td><td>0.71791137219219603</td><td>0.52069190182279346</td><td>0.46773339366202238</td><td>1</td><td>0.21809294142136015</td></tr><td>...</td><td>...</td><td>...</td><td>...</td><td>...</td><td>...</td><td>...</td><td>...</td><td>...</td><td>...</td><td>...</td><td>...</td><td>...</td><td>...</td><td>...</td><td>...</td><td>...</td><td>...</td><td>...</td><td>...</td><td>...</td><td>...</td><td>...</td><td>...</td><td>...</td><td>...</td><td>...</td><td>...</td><td>...</td><td>...</td><tr><td><i style='opacity: 0.6'>343,621</i></td><td>2008.0</td><td>8.0</td><td>29.0</td><td>5.0</td><td>1940.0</td><td>b'NW'</td><td>347.0</td><td>-4.0</td><td>b'DTW'</td><td>b'SFO'</td><td>2079.0</td><td>0.0</td><td>5906700.0</td><td>0.0</td><td>12</td><td>87</td><td>258</td><td>-2001.5130971364724</td><td>1094.1525023840456</td><td>-690.56936892502256</td><td>29.183643169068887</td><td>112.55112104180738</td><td>-1.0167745754058604</td><td>2.0788538574319242</td><td>-1.4898457538022987</td><td>0.35972262555229145</td><td>1.4140918951719013</td><td>0</td><td>0.29890930746010047</td></tr><tr><td><i style='opacity: 0.6'>343,622</i></td><td>2008.0</td><td>1.0</td><td>8.0</td><td>2.0</td><td>1530.0</td><td>b'XE'</td><td>2370.0</td><td>-2.0</td><td>b'CLE'</td><td>b'MHT'</td><td>544.0</td><td>0.0</td><td>3368336.0</td><td>0.0</td><td>18</td><td>61</td><td>186</td><td>176.33113489720688</td><td>-182.36174125716482</td><td>-193.53971753555453</td><td>-22.457923649672654</td><td>89.520555128134419</td><td>0.089576738254896413</td><td>-0.34648132544086158</td><td>-0.41754578082618193</td><td>-0.2768202452624387</td><td>1.124735944753158</td><td>0</td><td>0.23560012308597586</td></tr><tr><td><i style='opacity: 0.6'>343,623</i></td><td>2008.0</td><td>9.0</td><td>21.0</td><td>7.0</td><td>1000.0</td><td>b'WN'</td><td>2190.0</td><td>-2.0</td><td>b'LAX'</td><td>b'SJC'</td><td>308.0</td><td>0.0</td><td>4427900.0</td><td>0.0</td><td>17</td><td>157</td><td>263</td><td>24.049714748290477</td><td>-396.07844221053659</td><td>353.75999785787695</td><td>100.68918281886613</td><td>65.850585724252682</td><td>0.012217326250230191</td><td>-0.752536045606916</td><td>0.76320765789843692</td><td>1.2411122558785319</td><td>0.82734653109673628</td><td>0</td><td>0.14579833270983347</td></tr><tr><td><i style='opacity: 0.6'>343,624</i></td><td>2008.0</td><td>5.0</td><td>30.0</td><td>5.0</td><td>2010.0</td><td>b'CO'</td><td>501.0</td><td>11.0</td><td>b'EWR'</td><td>b'FLL'</td><td>1065.0</td><td>0.0</td><td>5655604.0</td><td>0.0</td><td>5</td><td>96</td><td>105</td><td>-1739.1668376676623</td><td>98.900528300718932</td><td>-689.16067180945458</td><td>-71.694604430790946</td><td>8.8179943622571209</td><td>-0.88350189936774448</td><td>0.18790775902995607</td><td>-1.4868066073957769</td><td>-0.88372007546718867</td><td>0.11078925064378077</td><td>0</td><td>0.43771013546259363</td></tr><tr><td><i style='opacity: 0.6'>343,625</i></td><td>2008.0</td><td>10.0</td><td>21.0</td><td>2.0</td><td>920.0</td><td>b'MQ'</td><td>3766.0</td><td>-3.0</td><td>b'ABI'</td><td>b'DFW'</td><td>158.0</td><td>0.0</td><td>5406704.0</td><td>0.0</td><td>11</td><td>1</td><td>82</td><td>1607.6040661588379</td><td>-373.16171165799943</td><td>428.00929124042983</td><td>-135.94874110404936</td><td>76.475811223306067</td><td>0.81666762217441236</td><td>-0.70899500941217519</td><td>0.92339430886590523</td><td>-1.6757276604282729</td><td>0.96084182748746816</td><td>0</td><td>0.096877255253055156</td></tr></table>"
      ],
      "text/plain": [
       "<vaex.dataset.DatasetArrays at 0x1a36c34898>"
      ]
     },
     "execution_count": 10,
     "metadata": {},
     "output_type": "execute_result"
    }
   ],
   "source": [
    "### Take a look inside\n",
    "ds_test"
   ]
  },
  {
   "cell_type": "markdown",
   "metadata": {},
   "source": [
    "### Check the performance in the standard manner"
   ]
  },
  {
   "cell_type": "code",
   "execution_count": 11,
   "metadata": {
    "ExecuteTime": {
     "end_time": "2018-06-21T09:35:08.053113Z",
     "start_time": "2018-06-21T09:35:02.008479Z"
    }
   },
   "outputs": [
    {
     "name": "stdout",
     "output_type": "stream",
     "text": [
      "Performance of the classifier on the test set:\n",
      "Accuracy: 0.815566924505\n",
      "ROC-AUC: 0.690878473434\n"
     ]
    }
   ],
   "source": [
    "test_pred = ds_test.lightgbm_prediction.values\n",
    "\n",
    "print('Performance of the classifier on the test set:')\n",
    "print('Accuracy:', accuracy_score(ds_test.evaluate('label'), np.round(test_pred).astype(np.int8)))\n",
    "print('ROC-AUC:', roc_auc_score(ds_test.evaluate('label'), test_pred))"
   ]
  }
 ],
 "metadata": {
  "kernelspec": {
   "display_name": "Python 3",
   "language": "python",
   "name": "python3"
  },
  "language_info": {
   "codemirror_mode": {
    "name": "ipython",
    "version": 3
   },
   "file_extension": ".py",
   "mimetype": "text/x-python",
   "name": "python",
   "nbconvert_exporter": "python",
   "pygments_lexer": "ipython3",
   "version": "3.6.7"
  }
 },
 "nbformat": 4,
 "nbformat_minor": 2
}
