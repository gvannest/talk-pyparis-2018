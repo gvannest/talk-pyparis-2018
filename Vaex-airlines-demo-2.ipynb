{
 "cells": [
  {
   "cell_type": "markdown",
   "metadata": {},
   "source": [
    "# The power of the expressions\n",
    "\n",
    "# What happens on the \"server\" side...\n",
    "\n"
   ]
  },
  {
   "cell_type": "code",
   "execution_count": 1,
   "metadata": {
    "ExecuteTime": {
     "end_time": "2018-11-14T09:14:25.219106Z",
     "start_time": "2018-11-14T09:14:23.783757Z"
    }
   },
   "outputs": [],
   "source": [
    "import vaex \n",
    "import vaex.ml\n",
    "\n",
    "import numpy as np\n",
    "from sklearn.metrics import roc_auc_score, accuracy_score\n",
    "\n",
    "import warnings\n",
    "warnings.simplefilter('ignore')"
   ]
  },
  {
   "cell_type": "markdown",
   "metadata": {},
   "source": [
    "### Load the test data"
   ]
  },
  {
   "cell_type": "code",
   "execution_count": 2,
   "metadata": {
    "ExecuteTime": {
     "end_time": "2018-11-14T09:14:25.982888Z",
     "start_time": "2018-11-14T09:14:25.957831Z"
    }
   },
   "outputs": [],
   "source": [
    "# Load the test set\n",
    "df_test = vaex.open(path='../airline-data/df_test.hdf5')"
   ]
  },
  {
   "cell_type": "code",
   "execution_count": 3,
   "metadata": {
    "ExecuteTime": {
     "end_time": "2018-11-14T09:14:26.672979Z",
     "start_time": "2018-11-14T09:14:26.663663Z"
    }
   },
   "outputs": [
    {
     "data": {
      "text/html": [
       "<style>.vaex-description pre {\n",
       "          max-width : 450px;\n",
       "          white-space : nowrap;\n",
       "          overflow : hidden;\n",
       "          text-overflow: ellipsis;\n",
       "        }\n",
       "\n",
       "        .vex-description pre:hover {\n",
       "          max-width : initial;\n",
       "          white-space: pre;\n",
       "        }</style>"
      ],
      "text/plain": [
       "<IPython.core.display.HTML object>"
      ]
     },
     "metadata": {},
     "output_type": "display_data"
    },
    {
     "data": {
      "text/html": [
       "<table class='table-striped'><thead><tr><th>#</th><th>Year</th><th>Month</th><th>DayofMonth</th><th>DayOfWeek</th><th>CRSDepTime</th><th>UniqueCarrier</th><th>FlightNum</th><th>DepDelay</th><th>Origin</th><th>Dest</th><th>Distance</th><th>Cancelled</th><th>LateAircraftDelay</th><th>random_index</th></tr></thead><tr><td><i style='opacity: 0.6'>0</i></td><td>2008.0</td><td>7.0</td><td>21.0</td><td>1.0</td><td>1325.0</td><td>b'AS'</td><td>852.0</td><td>7.0</td><td>b'HNL'</td><td>b'SEA'</td><td>2677.0</td><td>0.0</td><td>nan</td><td>3837252.0</td></tr><tr><td><i style='opacity: 0.6'>1</i></td><td>2008.0</td><td>12.0</td><td>6.0</td><td>6.0</td><td>1733.0</td><td>b'9E'</td><td>2918.0</td><td>-5.0</td><td>b'DTW'</td><td>b'ITH'</td><td>353.0</td><td>0.0</td><td>0.0</td><td>6177194.0</td></tr><tr><td><i style='opacity: 0.6'>2</i></td><td>2008.0</td><td>2.0</td><td>9.0</td><td>6.0</td><td>1345.0</td><td>b'XE'</td><td>2790.0</td><td>50.0</td><td>b'RDU'</td><td>b'EWR'</td><td>416.0</td><td>0.0</td><td>48.0</td><td>1489537.0</td></tr><tr><td><i style='opacity: 0.6'>3</i></td><td>2008.0</td><td>11.0</td><td>30.0</td><td>7.0</td><td>1802.0</td><td>b'US'</td><td>1511.0</td><td>-7.0</td><td>b'PHX'</td><td>b'LAX'</td><td>370.0</td><td>0.0</td><td>nan</td><td>6487323.0</td></tr><tr><td><i style='opacity: 0.6'>4</i></td><td>2008.0</td><td>6.0</td><td>25.0</td><td>3.0</td><td>955.0</td><td>b'US'</td><td>320.0</td><td>22.0</td><td>b'LAS'</td><td>b'ORD'</td><td>1515.0</td><td>0.0</td><td>0.0</td><td>762415.0</td></tr><td>...</td><td>...</td><td>...</td><td>...</td><td>...</td><td>...</td><td>...</td><td>...</td><td>...</td><td>...</td><td>...</td><td>...</td><td>...</td><td>...</td><td>...</td><tr><td><i style='opacity: 0.6'>350,481</i></td><td>2008.0</td><td>1.0</td><td>8.0</td><td>2.0</td><td>1530.0</td><td>b'XE'</td><td>2370.0</td><td>-2.0</td><td>b'CLE'</td><td>b'MHT'</td><td>544.0</td><td>0.0</td><td>nan</td><td>3368336.0</td></tr><tr><td><i style='opacity: 0.6'>350,482</i></td><td>2008.0</td><td>9.0</td><td>21.0</td><td>7.0</td><td>1000.0</td><td>b'WN'</td><td>2190.0</td><td>-2.0</td><td>b'LAX'</td><td>b'SJC'</td><td>308.0</td><td>0.0</td><td>nan</td><td>4427900.0</td></tr><tr><td><i style='opacity: 0.6'>350,483</i></td><td>2008.0</td><td>5.0</td><td>30.0</td><td>5.0</td><td>2010.0</td><td>b'CO'</td><td>501.0</td><td>11.0</td><td>b'EWR'</td><td>b'FLL'</td><td>1065.0</td><td>0.0</td><td>0.0</td><td>5655604.0</td></tr><tr><td><i style='opacity: 0.6'>350,484</i></td><td>2008.0</td><td>4.0</td><td>28.0</td><td>1.0</td><td>2300.0</td><td>b'US'</td><td>1738.0</td><td>nan</td><td>b'PHL'</td><td>b'BOS'</td><td>280.0</td><td>1.0</td><td>nan</td><td>720409.0</td></tr><tr><td><i style='opacity: 0.6'>350,485</i></td><td>2008.0</td><td>10.0</td><td>21.0</td><td>2.0</td><td>920.0</td><td>b'MQ'</td><td>3766.0</td><td>-3.0</td><td>b'ABI'</td><td>b'DFW'</td><td>158.0</td><td>0.0</td><td>nan</td><td>5406704.0</td></tr></table>"
      ],
      "text/plain": [
       "<vaex.hdf5.dataset.Hdf5MemoryMapped at 0x1a144a35f8>"
      ]
     },
     "execution_count": 3,
     "metadata": {},
     "output_type": "execute_result"
    }
   ],
   "source": [
    "### Take a look inside\n",
    "df_test"
   ]
  },
  {
   "cell_type": "markdown",
   "metadata": {},
   "source": [
    "### Load the state _into_ the test set: _everything_ done on the train set is applied seamlessly to the test set"
   ]
  },
  {
   "cell_type": "code",
   "execution_count": 4,
   "metadata": {
    "ExecuteTime": {
     "end_time": "2018-11-14T09:14:30.226774Z",
     "start_time": "2018-11-14T09:14:29.925503Z"
    }
   },
   "outputs": [],
   "source": [
    "df_test.state_load('/Users/jovan/Desktop/vaex-demo/deployable_model.json')"
   ]
  },
  {
   "cell_type": "code",
   "execution_count": 5,
   "metadata": {
    "ExecuteTime": {
     "end_time": "2018-11-14T09:14:32.008630Z",
     "start_time": "2018-11-14T09:14:31.838916Z"
    }
   },
   "outputs": [
    {
     "data": {
      "text/html": [
       "<style>.vaex-description pre {\n",
       "          max-width : 450px;\n",
       "          white-space : nowrap;\n",
       "          overflow : hidden;\n",
       "          text-overflow: ellipsis;\n",
       "        }\n",
       "\n",
       "        .vex-description pre:hover {\n",
       "          max-width : initial;\n",
       "          white-space: pre;\n",
       "        }</style>"
      ],
      "text/plain": [
       "<IPython.core.display.HTML object>"
      ]
     },
     "metadata": {},
     "output_type": "display_data"
    },
    {
     "data": {
      "text/html": [
       "<table class='table-striped'><thead><tr><th>#</th><th>Year</th><th>Month</th><th>DayofMonth</th><th>DayOfWeek</th><th>CRSDepTime</th><th>UniqueCarrier</th><th>FlightNum</th><th>DepDelay</th><th>Origin</th><th>Dest</th><th>Distance</th><th>Cancelled</th><th>LateAircraftDelay</th><th>random_index</th><th>label_encoded_UniqueCarrier</th><th>label_encoded_Origin</th><th>label_encoded_Dest</th><th>PCA_0</th><th>PCA_1</th><th>PCA_2</th><th>PCA_3</th><th>PCA_4</th><th>standard_scaled_PCA_0</th><th>standard_scaled_PCA_1</th><th>standard_scaled_PCA_2</th><th>standard_scaled_PCA_3</th><th>standard_scaled_PCA_4</th><th>label</th><th>lightgbm_prediction</th></tr></thead><tr><td><i style='opacity: 0.6'>0</i></td><td>2008.0</td><td>7.0</td><td>21.0</td><td>1.0</td><td>1325.0</td><td>b'AS'</td><td>852.0</td><td>7.0</td><td>b'HNL'</td><td>b'SEA'</td><td>2677.0</td><td>0.0</td><td>nan</td><td>3837252.0</td><td>3</td><td>129</td><td>257</td><td>1562.3017952126352</td><td>-1785.739174826887</td><td>124.58671421257611</td><td>-46.39330600571199</td><td>-84.62075192704721</td><td>0.7936539382183914</td><td>-3.3928462952079284</td><td>0.26879012406307007</td><td>-0.5718534710842886</td><td>-1.0631797591429974</td><td>0</td><td>0.12392578975942754</td></tr><tr><td><i style='opacity: 0.6'>1</i></td><td>2008.0</td><td>12.0</td><td>6.0</td><td>6.0</td><td>1733.0</td><td>b'9E'</td><td>2918.0</td><td>-5.0</td><td>b'DTW'</td><td>b'ITH'</td><td>353.0</td><td>0.0</td><td>0.0</td><td>6177194.0</td><td>0</td><td>87</td><td>145</td><td>-741.1850578412821</td><td>327.5738515003087</td><td>387.8101970291009</td><td>36.1302919095897</td><td>-41.811096562619824</td><td>-0.3765242041626773</td><td>0.6223796532758243</td><td>0.8366827203943824</td><td>0.44534943979296543</td><td>-0.5253169058492186</td><td>0</td><td>0.23285985152576122</td></tr><tr><td><i style='opacity: 0.6'>2</i></td><td>2008.0</td><td>2.0</td><td>9.0</td><td>6.0</td><td>1345.0</td><td>b'XE'</td><td>2790.0</td><td>50.0</td><td>b'RDU'</td><td>b'EWR'</td><td>416.0</td><td>0.0</td><td>48.0</td><td>1489537.0</td><td>18</td><td>236</td><td>97</td><td>-608.080130971349</td><td>250.0931399270975</td><td>2.85562721608352</td><td>-17.894899127289882</td><td>101.70013763205434</td><td>-0.30890650716565415</td><td>0.4751688237677984</td><td>0.006160884798513331</td><td>-0.22057622234086954</td><td>1.2777660960242214</td><td>1</td><td>0.24009133533687102</td></tr><tr><td><i style='opacity: 0.6'>3</i></td><td>2008.0</td><td>11.0</td><td>30.0</td><td>7.0</td><td>1802.0</td><td>b'US'</td><td>1511.0</td><td>-7.0</td><td>b'PHX'</td><td>b'LAX'</td><td>370.0</td><td>0.0</td><td>nan</td><td>6487323.0</td><td>16</td><td>220</td><td>158</td><td>659.7822847130379</td><td>465.2567678030713</td><td>442.5736797845014</td><td>-56.32205861854138</td><td>54.99538556040044</td><td>0.33517135436560214</td><td>0.8839727118122348</td><td>0.9548324237314019</td><td>-0.6942373263000524</td><td>0.6909650344928472</td><td>0</td><td>0.27423062243260227</td></tr><tr><td><i style='opacity: 0.6'>4</i></td><td>2008.0</td><td>6.0</td><td>25.0</td><td>3.0</td><td>955.0</td><td>b'US'</td><td>320.0</td><td>22.0</td><td>b'LAS'</td><td>b'ORD'</td><td>1515.0</td><td>0.0</td><td>0.0</td><td>762415.0</td><td>16</td><td>155</td><td>211</td><td>1964.951594976835</td><td>-602.7542193454902</td><td>-332.75019114247965</td><td>-42.25554054070577</td><td>-37.212628061076245</td><td>0.9982012288154747</td><td>-1.1452133933420288</td><td>-0.7178932819962678</td><td>-0.5208505194212799</td><td>-0.4675414958869834</td><td>1</td><td>0.19413835869282411</td></tr><tr><td><i style='opacity: 0.6'>5</i></td><td>2008.0</td><td>4.0</td><td>2.0</td><td>3.0</td><td>930.0</td><td>b'B6'</td><td>1241.0</td><td>-7.0</td><td>b'BOS'</td><td>b'TPA'</td><td>1185.0</td><td>0.0</td><td>nan</td><td>1359589.0</td><td>4</td><td>37</td><td>284</td><td>1013.6441333750543</td><td>-375.7224779916294</td><td>-370.44526009827473</td><td>-30.833716107407398</td><td>-174.79471742615317</td><td>0.5149342213330729</td><td>-0.7138604760708241</td><td>-0.7992186650857223</td><td>-0.3800627525936079</td><td>-2.196130397574577</td><td>0</td><td>0.1277845132743934</td></tr><tr><td><i style='opacity: 0.6'>6</i></td><td>2008.0</td><td>7.0</td><td>6.0</td><td>7.0</td><td>1715.0</td><td>b'WN'</td><td>539.0</td><td>-5.0</td><td>b'PBI'</td><td>b'TPA'</td><td>174.0</td><td>0.0</td><td>nan</td><td>5269863.0</td><td>17</td><td>215</td><td>284</td><td>1604.88929616548</td><td>756.552912869975</td><td>332.5759734857825</td><td>-154.7389143255092</td><td>-27.500158123666637</td><td>0.8152885148115165</td><td>1.4374259039305102</td><td>0.7175174153891939</td><td>-1.9073438150314626</td><td>-0.3455134919566823</td><td>0</td><td>0.1759776375620835</td></tr><tr><td><i style='opacity: 0.6'>7</i></td><td>2008.0</td><td>2.0</td><td>14.0</td><td>4.0</td><td>1735.0</td><td>b'F9'</td><td>541.0</td><td>32.0</td><td>b'DEN'</td><td>b'MDW'</td><td>895.0</td><td>0.0</td><td>24.0</td><td>4023325.0</td><td>8</td><td>80</td><td>180</td><td>1680.4035111694068</td><td>45.13738352542359</td><td>403.8013514792522</td><td>20.345830303705796</td><td>-69.8123367448062</td><td>0.8536499596443824</td><td>0.08575955919456092</td><td>0.8711829029839478</td><td>0.25078690619361266</td><td>-0.8771260202171411</td><td>1</td><td>0.2752344147302583</td></tr><tr><td><i style='opacity: 0.6'>8</i></td><td>2008.0</td><td>10.0</td><td>18.0</td><td>6.0</td><td>820.0</td><td>b'AA'</td><td>299.0</td><td>1.0</td><td>b'MIA'</td><td>b'LAX'</td><td>2342.0</td><td>0.0</td><td>nan</td><td>3106318.0</td><td>1</td><td>186</td><td>158</td><td>2074.575831792818</td><td>-1430.0069647506002</td><td>-409.4715179531424</td><td>-8.540817756075281</td><td>17.78690830665598</td><td>1.0538906657346383</td><td>-2.7169666773681835</td><td>-0.883416027194726</td><td>-0.10527588353174573</td><td>0.22347568957638514</td><td>0</td><td>0.1216235394139792</td></tr><tr><td><i style='opacity: 0.6'>9</i></td><td>2008.0</td><td>4.0</td><td>26.0</td><td>6.0</td><td>1845.0</td><td>b'9E'</td><td>5697.0</td><td>-5.0</td><td>b'MSP'</td><td>b'ROC'</td><td>783.0</td><td>0.0</td><td>nan</td><td>6399486.0</td><td>0</td><td>199</td><td>244</td><td>-3457.116249263133</td><td>-391.0237405258357</td><td>558.786967408765</td><td>-105.27509908682347</td><td>-14.698275251202269</td><td>-1.7562252917548773</td><td>-0.742932376734155</td><td>1.2055572638215333</td><td>-1.2976426130125387</td><td>-0.184669934803497</td><td>0</td><td>0.1702382039086791</td></tr></table>"
      ],
      "text/plain": [
       "<vaex.dataset.DatasetArrays at 0x1a18b6b908>"
      ]
     },
     "execution_count": 5,
     "metadata": {},
     "output_type": "execute_result"
    }
   ],
   "source": [
    "### Take a look inside\n",
    "df_test.head(10)"
   ]
  },
  {
   "cell_type": "markdown",
   "metadata": {},
   "source": [
    "### Check the performance in the standard manner"
   ]
  },
  {
   "cell_type": "code",
   "execution_count": 6,
   "metadata": {
    "ExecuteTime": {
     "end_time": "2018-11-14T09:16:03.212609Z",
     "start_time": "2018-11-14T09:15:56.183624Z"
    }
   },
   "outputs": [
    {
     "name": "stdout",
     "output_type": "stream",
     "text": [
      "Performance of the classifier on the test set:\n",
      "Accuracy: 0.814062381775535\n",
      "ROC-AUC: 0.6860429974752482\n"
     ]
    }
   ],
   "source": [
    "test_pred = df_test.lightgbm_prediction.values\n",
    "\n",
    "print('Performance of the classifier on the test set:')\n",
    "print('Accuracy:', accuracy_score(df_test.evaluate('label'), np.round(test_pred).astype(np.int8)))\n",
    "print('ROC-AUC:', roc_auc_score(df_test.evaluate('label'), test_pred))"
   ]
  },
  {
   "cell_type": "code",
   "execution_count": null,
   "metadata": {},
   "outputs": [],
   "source": []
  }
 ],
 "metadata": {
  "kernelspec": {
   "display_name": "Python 3",
   "language": "python",
   "name": "python3"
  },
  "language_info": {
   "codemirror_mode": {
    "name": "ipython",
    "version": 3
   },
   "file_extension": ".py",
   "mimetype": "text/x-python",
   "name": "python",
   "nbconvert_exporter": "python",
   "pygments_lexer": "ipython3",
   "version": "3.6.7"
  }
 },
 "nbformat": 4,
 "nbformat_minor": 2
}
