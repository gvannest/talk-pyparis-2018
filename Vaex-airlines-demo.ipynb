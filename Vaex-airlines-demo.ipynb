{
 "cells": [
  {
   "cell_type": "markdown",
   "metadata": {},
   "source": [
    "# Data science meet-up: _PyParis_ 14-November-2018\n",
    "\n",
    "# `Vaex` demo on Machine Learning\n",
    "\n",
    "# Goal: predict if a flight is likely to be delayed"
   ]
  },
  {
   "cell_type": "code",
   "execution_count": 1,
   "metadata": {
    "ExecuteTime": {
     "end_time": "2018-11-14T09:10:42.495868Z",
     "start_time": "2018-11-14T09:10:39.797108Z"
    }
   },
   "outputs": [],
   "source": [
    "import vaex \n",
    "import vaex.ml\n",
    "\n",
    "import numpy as np\n",
    "import pylab as plt\n",
    "from sklearn.metrics import roc_auc_score, accuracy_score, roc_curve\n",
    "\n",
    "import warnings\n",
    "warnings.simplefilter('ignore')"
   ]
  },
  {
   "cell_type": "markdown",
   "metadata": {},
   "source": [
    "### Read in the data\n",
    "\n",
    "- If `Pandas` can read it, `vaex` can read it too!\n",
    "- Most efficint is to use **Apache Arrow** (or **hdf5**) \n",
    "- Easy to convert to **Apache Arrow** and **hdf5** with `vaex` even if the data is in multiple text (csv) files"
   ]
  },
  {
   "cell_type": "code",
   "execution_count": 2,
   "metadata": {
    "ExecuteTime": {
     "end_time": "2018-11-14T09:10:51.207131Z",
     "start_time": "2018-11-14T09:10:50.642533Z"
    }
   },
   "outputs": [],
   "source": [
    "### Read and convert to HDF5 all CSV files in the relevant directory\n",
    "# df = vaex.open(path='./airline-data/20*.csv', convert='airline-data.hdf5')\n",
    "# df = vaex.open(path='./airline-data/20*.csv', convert='airline-data.arrow')\n",
    "\n",
    "# If the file exists, just open the hdf5 version\n",
    "# df = vaex.open(path='../airline-data/demo-2008.hdf5')\n",
    "\n",
    "# If the file exists, just open the arrow version\n",
    "df = vaex.open(path='../airline-data/demo-2008.arrow')"
   ]
  },
  {
   "cell_type": "markdown",
   "metadata": {},
   "source": [
    "### What is in the dataset"
   ]
  },
  {
   "cell_type": "code",
   "execution_count": 3,
   "metadata": {
    "ExecuteTime": {
     "end_time": "2018-11-14T09:10:52.309513Z",
     "start_time": "2018-11-14T09:10:52.297429Z"
    }
   },
   "outputs": [
    {
     "data": {
      "text/html": [
       "<style>.vaex-description pre {\n",
       "          max-width : 450px;\n",
       "          white-space : nowrap;\n",
       "          overflow : hidden;\n",
       "          text-overflow: ellipsis;\n",
       "        }\n",
       "\n",
       "        .vex-description pre:hover {\n",
       "          max-width : initial;\n",
       "          white-space: pre;\n",
       "        }</style>"
      ],
      "text/plain": [
       "<IPython.core.display.HTML object>"
      ]
     },
     "metadata": {},
     "output_type": "display_data"
    },
    {
     "data": {
      "text/html": [
       "<div><h2>../airline-data/demo-2008.arrow</h2> <b>rows</b>: 1,401,946</div><div><b>path</b>: <i>../airline-data/demo-2008.arrow</i></div><h2>Columns:</h2><table class='table-striped'><thead><tr><th>column</th><th>type</th><th>unit</th><th>description</th><th>expression</th></tr></thead><tr><td>Year</td><td>float64</td><td></td><td ><pre></pre></td><td></td></tr><tr><td>Month</td><td>float64</td><td></td><td ><pre></pre></td><td></td></tr><tr><td>DayofMonth</td><td>float64</td><td></td><td ><pre></pre></td><td></td></tr><tr><td>DayOfWeek</td><td>float64</td><td></td><td ><pre></pre></td><td></td></tr><tr><td>CRSDepTime</td><td>float64</td><td></td><td ><pre></pre></td><td></td></tr><tr><td>UniqueCarrier</td><td>bytes80</td><td></td><td ><pre></pre></td><td></td></tr><tr><td>FlightNum</td><td>float64</td><td></td><td ><pre></pre></td><td></td></tr><tr><td>DepDelay</td><td>float64</td><td></td><td ><pre></pre></td><td></td></tr><tr><td>Origin</td><td>bytes24</td><td></td><td ><pre></pre></td><td></td></tr><tr><td>Dest</td><td>bytes24</td><td></td><td ><pre></pre></td><td></td></tr><tr><td>Distance</td><td>float64</td><td></td><td ><pre></pre></td><td></td></tr><tr><td>Cancelled</td><td>float64</td><td></td><td ><pre></pre></td><td></td></tr><tr><td>LateAircraftDelay</td><td>float64</td><td></td><td ><pre></pre></td><td></td></tr><tr><td>random_index</td><td>float64</td><td></td><td ><pre></pre></td><td></td></tr></table><h2>Data:</h2><table class='table-striped'><thead><tr><th>#</th><th>Year</th><th>Month</th><th>DayofMonth</th><th>DayOfWeek</th><th>CRSDepTime</th><th>UniqueCarrier</th><th>FlightNum</th><th>DepDelay</th><th>Origin</th><th>Dest</th><th>Distance</th><th>Cancelled</th><th>LateAircraftDelay</th><th>random_index</th></tr></thead><tr><td><i style='opacity: 0.6'>0</i></td><td>2008.0</td><td>7.0</td><td>21.0</td><td>1.0</td><td>1325.0</td><td>b'AS'</td><td>852.0</td><td>7.0</td><td>b'HNL'</td><td>b'SEA'</td><td>2677.0</td><td>0.0</td><td>nan</td><td>3837252.0</td></tr><tr><td><i style='opacity: 0.6'>1</i></td><td>2008.0</td><td>12.0</td><td>6.0</td><td>6.0</td><td>1733.0</td><td>b'9E'</td><td>2918.0</td><td>-5.0</td><td>b'DTW'</td><td>b'ITH'</td><td>353.0</td><td>0.0</td><td>0.0</td><td>6177194.0</td></tr><tr><td><i style='opacity: 0.6'>2</i></td><td>2008.0</td><td>2.0</td><td>9.0</td><td>6.0</td><td>1345.0</td><td>b'XE'</td><td>2790.0</td><td>50.0</td><td>b'RDU'</td><td>b'EWR'</td><td>416.0</td><td>0.0</td><td>48.0</td><td>1489537.0</td></tr><tr><td><i style='opacity: 0.6'>3</i></td><td>2008.0</td><td>11.0</td><td>30.0</td><td>7.0</td><td>1802.0</td><td>b'US'</td><td>1511.0</td><td>-7.0</td><td>b'PHX'</td><td>b'LAX'</td><td>370.0</td><td>0.0</td><td>nan</td><td>6487323.0</td></tr><tr><td><i style='opacity: 0.6'>4</i></td><td>2008.0</td><td>6.0</td><td>25.0</td><td>3.0</td><td>955.0</td><td>b'US'</td><td>320.0</td><td>22.0</td><td>b'LAS'</td><td>b'ORD'</td><td>1515.0</td><td>0.0</td><td>0.0</td><td>762415.0</td></tr><td>...</td><td>...</td><td>...</td><td>...</td><td>...</td><td>...</td><td>...</td><td>...</td><td>...</td><td>...</td><td>...</td><td>...</td><td>...</td><td>...</td><td>...</td><tr><td><i style='opacity: 0.6'>1,401,941</i></td><td>2008.0</td><td>3.0</td><td>27.0</td><td>4.0</td><td>1645.0</td><td>b'AA'</td><td>743.0</td><td>-3.0</td><td>b'DFW'</td><td>b'SNA'</td><td>1205.0</td><td>0.0</td><td>nan</td><td>3893528.0</td></tr><tr><td><i style='opacity: 0.6'>1,401,942</i></td><td>2008.0</td><td>8.0</td><td>2.0</td><td>6.0</td><td>2011.0</td><td>b'US'</td><td>587.0</td><td>-7.0</td><td>b'PHX'</td><td>b'GEG'</td><td>1020.0</td><td>0.0</td><td>nan</td><td>1165052.0</td></tr><tr><td><i style='opacity: 0.6'>1,401,943</i></td><td>2008.0</td><td>2.0</td><td>22.0</td><td>5.0</td><td>2045.0</td><td>b'WN'</td><td>1559.0</td><td>84.0</td><td>b'ALB'</td><td>b'BWI'</td><td>288.0</td><td>0.0</td><td>78.0</td><td>4066956.0</td></tr><tr><td><i style='opacity: 0.6'>1,401,944</i></td><td>2008.0</td><td>3.0</td><td>24.0</td><td>1.0</td><td>1255.0</td><td>b'XE'</td><td>215.0</td><td>-3.0</td><td>b'COS'</td><td>b'SMF'</td><td>911.0</td><td>0.0</td><td>nan</td><td>5127319.0</td></tr><tr><td><i style='opacity: 0.6'>1,401,945</i></td><td>2008.0</td><td>10.0</td><td>9.0</td><td>4.0</td><td>635.0</td><td>b'WN'</td><td>1572.0</td><td>0.0</td><td>b'ORF'</td><td>b'BWI'</td><td>159.0</td><td>0.0</td><td>nan</td><td>2509035.0</td></tr></table>"
      ],
      "text/plain": [
       "<IPython.core.display.HTML object>"
      ]
     },
     "metadata": {},
     "output_type": "display_data"
    }
   ],
   "source": [
    "df.info()"
   ]
  },
  {
   "cell_type": "markdown",
   "metadata": {},
   "source": [
    "### Split the data into train and test samples"
   ]
  },
  {
   "cell_type": "code",
   "execution_count": 4,
   "metadata": {
    "ExecuteTime": {
     "end_time": "2018-11-14T09:10:54.931347Z",
     "start_time": "2018-11-14T09:10:54.382316Z"
    }
   },
   "outputs": [],
   "source": [
    "# Ordered splitting\n",
    "df_train, df_test = df.ml.train_test_split(test_size=0.25)\n",
    "\n",
    "# Random splitting\n",
    "# df.split_random(test_size=0.25)\n",
    "\n",
    "# Export for later - figure out the file format from the extension\n",
    "df_test.export(path='../airline-data/df_test.arrow')\n",
    "df_test.export(path='../airline-data/df_test.hdf5')"
   ]
  },
  {
   "cell_type": "markdown",
   "metadata": {},
   "source": [
    "### View the data types and check for missing values"
   ]
  },
  {
   "cell_type": "code",
   "execution_count": 5,
   "metadata": {
    "ExecuteTime": {
     "end_time": "2018-11-14T09:11:03.435660Z",
     "start_time": "2018-11-14T09:11:02.897228Z"
    }
   },
   "outputs": [
    {
     "data": {
      "text/html": [
       "<div>\n",
       "<style scoped>\n",
       "    .dataframe tbody tr th:only-of-type {\n",
       "        vertical-align: middle;\n",
       "    }\n",
       "\n",
       "    .dataframe tbody tr th {\n",
       "        vertical-align: top;\n",
       "    }\n",
       "\n",
       "    .dataframe thead th {\n",
       "        text-align: right;\n",
       "    }\n",
       "</style>\n",
       "<table border=\"1\" class=\"dataframe\">\n",
       "  <thead>\n",
       "    <tr style=\"text-align: right;\">\n",
       "      <th></th>\n",
       "      <th>Year</th>\n",
       "      <th>Month</th>\n",
       "      <th>DayofMonth</th>\n",
       "      <th>DayOfWeek</th>\n",
       "      <th>CRSDepTime</th>\n",
       "      <th>UniqueCarrier</th>\n",
       "      <th>FlightNum</th>\n",
       "      <th>DepDelay</th>\n",
       "      <th>Origin</th>\n",
       "      <th>Dest</th>\n",
       "      <th>Distance</th>\n",
       "      <th>Cancelled</th>\n",
       "      <th>LateAircraftDelay</th>\n",
       "      <th>random_index</th>\n",
       "    </tr>\n",
       "  </thead>\n",
       "  <tbody>\n",
       "    <tr>\n",
       "      <th>dtype</th>\n",
       "      <td>float64</td>\n",
       "      <td>float64</td>\n",
       "      <td>float64</td>\n",
       "      <td>float64</td>\n",
       "      <td>float64</td>\n",
       "      <td>|S10</td>\n",
       "      <td>float64</td>\n",
       "      <td>float64</td>\n",
       "      <td>|S3</td>\n",
       "      <td>|S3</td>\n",
       "      <td>float64</td>\n",
       "      <td>float64</td>\n",
       "      <td>float64</td>\n",
       "      <td>float64</td>\n",
       "    </tr>\n",
       "    <tr>\n",
       "      <th>count</th>\n",
       "      <td>1051460</td>\n",
       "      <td>1051460</td>\n",
       "      <td>1051460</td>\n",
       "      <td>1051460</td>\n",
       "      <td>1051460</td>\n",
       "      <td>--</td>\n",
       "      <td>1051460</td>\n",
       "      <td>1030859</td>\n",
       "      <td>--</td>\n",
       "      <td>--</td>\n",
       "      <td>1051460</td>\n",
       "      <td>1051460</td>\n",
       "      <td>228614</td>\n",
       "      <td>1051460</td>\n",
       "    </tr>\n",
       "    <tr>\n",
       "      <th>missing</th>\n",
       "      <td>0</td>\n",
       "      <td>0</td>\n",
       "      <td>0</td>\n",
       "      <td>0</td>\n",
       "      <td>0</td>\n",
       "      <td>--</td>\n",
       "      <td>0</td>\n",
       "      <td>20601</td>\n",
       "      <td>--</td>\n",
       "      <td>--</td>\n",
       "      <td>0</td>\n",
       "      <td>0</td>\n",
       "      <td>822846</td>\n",
       "      <td>0</td>\n",
       "    </tr>\n",
       "    <tr>\n",
       "      <th>mean</th>\n",
       "      <td>2008</td>\n",
       "      <td>6.37757</td>\n",
       "      <td>15.7405</td>\n",
       "      <td>3.92348</td>\n",
       "      <td>1326.07</td>\n",
       "      <td>--</td>\n",
       "      <td>2223.72</td>\n",
       "      <td>9.95374</td>\n",
       "      <td>--</td>\n",
       "      <td>--</td>\n",
       "      <td>726.714</td>\n",
       "      <td>0.0197506</td>\n",
       "      <td>20.5796</td>\n",
       "      <td>3.50363e+06</td>\n",
       "    </tr>\n",
       "    <tr>\n",
       "      <th>std</th>\n",
       "      <td>0</td>\n",
       "      <td>3.40464</td>\n",
       "      <td>8.79158</td>\n",
       "      <td>1.99</td>\n",
       "      <td>463.828</td>\n",
       "      <td>--</td>\n",
       "      <td>1963.05</td>\n",
       "      <td>35.5277</td>\n",
       "      <td>--</td>\n",
       "      <td>--</td>\n",
       "      <td>562.687</td>\n",
       "      <td>0.139142</td>\n",
       "      <td>39.001</td>\n",
       "      <td>2.02306e+06</td>\n",
       "    </tr>\n",
       "    <tr>\n",
       "      <th>min</th>\n",
       "      <td>2008</td>\n",
       "      <td>1</td>\n",
       "      <td>1</td>\n",
       "      <td>1</td>\n",
       "      <td>1</td>\n",
       "      <td>--</td>\n",
       "      <td>1</td>\n",
       "      <td>-67</td>\n",
       "      <td>--</td>\n",
       "      <td>--</td>\n",
       "      <td>24</td>\n",
       "      <td>0</td>\n",
       "      <td>0</td>\n",
       "      <td>2</td>\n",
       "    </tr>\n",
       "    <tr>\n",
       "      <th>max</th>\n",
       "      <td>2008</td>\n",
       "      <td>12</td>\n",
       "      <td>31</td>\n",
       "      <td>7</td>\n",
       "      <td>2359</td>\n",
       "      <td>--</td>\n",
       "      <td>9743</td>\n",
       "      <td>2467</td>\n",
       "      <td>--</td>\n",
       "      <td>--</td>\n",
       "      <td>4962</td>\n",
       "      <td>1</td>\n",
       "      <td>1254</td>\n",
       "      <td>7.00972e+06</td>\n",
       "    </tr>\n",
       "  </tbody>\n",
       "</table>\n",
       "</div>"
      ],
      "text/plain": [
       "            Year    Month DayofMonth DayOfWeek CRSDepTime UniqueCarrier  \\\n",
       "dtype    float64  float64    float64   float64    float64          |S10   \n",
       "count    1051460  1051460    1051460   1051460    1051460            --   \n",
       "missing        0        0          0         0          0            --   \n",
       "mean        2008  6.37757    15.7405   3.92348    1326.07            --   \n",
       "std            0  3.40464    8.79158      1.99    463.828            --   \n",
       "min         2008        1          1         1          1            --   \n",
       "max         2008       12         31         7       2359            --   \n",
       "\n",
       "        FlightNum DepDelay Origin Dest Distance  Cancelled LateAircraftDelay  \\\n",
       "dtype     float64  float64    |S3  |S3  float64    float64           float64   \n",
       "count     1051460  1030859     --   --  1051460    1051460            228614   \n",
       "missing         0    20601     --   --        0          0            822846   \n",
       "mean      2223.72  9.95374     --   --  726.714  0.0197506           20.5796   \n",
       "std       1963.05  35.5277     --   --  562.687   0.139142            39.001   \n",
       "min             1      -67     --   --       24          0                 0   \n",
       "max          9743     2467     --   --     4962          1              1254   \n",
       "\n",
       "        random_index  \n",
       "dtype        float64  \n",
       "count        1051460  \n",
       "missing            0  \n",
       "mean     3.50363e+06  \n",
       "std      2.02306e+06  \n",
       "min                2  \n",
       "max      7.00972e+06  "
      ]
     },
     "execution_count": 5,
     "metadata": {},
     "output_type": "execute_result"
    }
   ],
   "source": [
    "(df_train.describe())"
   ]
  },
  {
   "cell_type": "markdown",
   "metadata": {},
   "source": [
    "What to do with the missing/NaN values?\n",
    "\n",
    "LateAircraftDelay: NaN if it does not happen, so safe to fill with 0.\n",
    "\n",
    "DepDelay: one idea is to fill with the mean delay.. but let's first check whether this is different for the cancelled and the departed flights:"
   ]
  },
  {
   "cell_type": "code",
   "execution_count": 6,
   "metadata": {
    "ExecuteTime": {
     "end_time": "2018-11-14T09:11:30.685953Z",
     "start_time": "2018-11-14T09:11:30.351602Z"
    }
   },
   "outputs": [
    {
     "name": "stdout",
     "output_type": "stream",
     "text": [
      "Departure delay for CANCELLED flights:\n",
      "dtype      float64\n",
      "count          166\n",
      "missing      20601\n",
      "mean       42.9398\n",
      "std          88.74\n",
      "min            -20\n",
      "max            676\n",
      "Name: DepDelay, dtype: object\n",
      "\n",
      "Departure delay for DEPARTED flights:\n",
      "dtype      float64\n",
      "count      1030693\n",
      "missing          0\n",
      "mean       9.94843\n",
      "std        35.5102\n",
      "min            -67\n",
      "max           2467\n",
      "Name: DepDelay, dtype: object\n"
     ]
    }
   ],
   "source": [
    "print('Departure delay for CANCELLED flights:')\n",
    "print(df_train[df_train.Cancelled==1].describe()['DepDelay'])\n",
    "print()\n",
    "print('Departure delay for DEPARTED flights:')\n",
    "print(df_train[df_train.Cancelled==0].describe()['DepDelay'])"
   ]
  },
  {
   "cell_type": "code",
   "execution_count": 7,
   "metadata": {
    "ExecuteTime": {
     "end_time": "2018-11-14T09:11:38.275116Z",
     "start_time": "2018-11-14T09:11:38.271623Z"
    }
   },
   "outputs": [],
   "source": [
    "# For starters, best thing seems to drop the flights with missing DepDelay entry.\n",
    "df_train = df_train.dropna(column_names=['DepDelay'])"
   ]
  },
  {
   "cell_type": "markdown",
   "metadata": {},
   "source": [
    "### One-hot encoding / Label encoding"
   ]
  },
  {
   "cell_type": "code",
   "execution_count": 8,
   "metadata": {
    "ExecuteTime": {
     "end_time": "2018-11-14T09:11:44.910395Z",
     "start_time": "2018-11-14T09:11:41.415462Z"
    }
   },
   "outputs": [],
   "source": [
    "# Scikit-learn like-API\n",
    "label_encoder = vaex.ml.LabelEncoder(features=['UniqueCarrier','Origin','Dest'])\n",
    "label_encoder.fit(df_train)\n",
    "df_train = label_encoder.transform(df_train)\n",
    "\n",
    "# vaex-API (shorter)\n",
    "# label_encoder = df_train.ml.label_encoder(features=['UniqueCarrier','Origin','Dest'])\n",
    "# label_encoder.transform(df_train)"
   ]
  },
  {
   "cell_type": "markdown",
   "metadata": {},
   "source": [
    "### PCA transformation"
   ]
  },
  {
   "cell_type": "code",
   "execution_count": 9,
   "metadata": {
    "ExecuteTime": {
     "end_time": "2018-11-14T09:11:46.999628Z",
     "start_time": "2018-11-14T09:11:46.116445Z"
    }
   },
   "outputs": [
    {
     "name": "stdout",
     "output_type": "stream",
     "text": [
      "[########################################]:  100.00% elapsed time  :        0s =  0.0m =  0.0h\n",
      "[########################################]:  100.00% elapsed time  :        0s =  0.0m =  0.0h\n",
      " "
     ]
    }
   ],
   "source": [
    "### Figure out which columns to use for the PCA as input\n",
    "allcols = np.array(df_train.get_column_names(virtual=True, strings=True))\n",
    "exclude = ['Cancelled', 'DepDelay','Origin','Dest', 'UniqueCarrier', 'random_index', 'LateAircraftDelay']\n",
    "pca_features = allcols[np.in1d(allcols, exclude, invert=True)].tolist()\n",
    "\n",
    "# The PCA: Scikit-learn like API\n",
    "pca = vaex.ml.PCA(n_components=5, features=pca_features)\n",
    "pca.fit(df_train, progress=True)\n",
    "df_train = pca.transform(df_train)\n",
    "\n",
    "# # The PCA: faster vaex-API\n",
    "# pca = df_train.ml.pca(n_components=5, features=pca_features, progress=True)\n",
    "# df_train = pca.transform(df_train)"
   ]
  },
  {
   "cell_type": "markdown",
   "metadata": {},
   "source": [
    "### Scaling: MinMaxScaler / StandardScaler"
   ]
  },
  {
   "cell_type": "code",
   "execution_count": 10,
   "metadata": {
    "ExecuteTime": {
     "end_time": "2018-11-14T09:11:55.950199Z",
     "start_time": "2018-11-14T09:11:55.417271Z"
    }
   },
   "outputs": [],
   "source": [
    "# Features to scale\n",
    "scale_features = ['PCA_0', 'PCA_1', 'PCA_2', 'PCA_3', 'PCA_4']\n",
    "\n",
    "# Scaling the data (Standard Scaler): Scikit-learn like API\n",
    "scaler = vaex.ml.StandardScaler(features=scale_features)\n",
    "scaler.fit(df_train)\n",
    "df_train = scaler.transform(df_train)\n",
    "\n",
    "# # Scaling the data (Standard Scaler): vaex-API (Shorter)\n",
    "# scaler = df_train.ml.standard_scaler(features=scale_features)\n",
    "# df_train = scaler.transform(df_train)"
   ]
  },
  {
   "cell_type": "code",
   "execution_count": 11,
   "metadata": {
    "ExecuteTime": {
     "end_time": "2018-11-14T09:11:59.084964Z",
     "start_time": "2018-11-14T09:11:58.651034Z"
    }
   },
   "outputs": [
    {
     "data": {
      "text/html": [
       "<style>.vaex-description pre {\n",
       "          max-width : 450px;\n",
       "          white-space : nowrap;\n",
       "          overflow : hidden;\n",
       "          text-overflow: ellipsis;\n",
       "        }\n",
       "\n",
       "        .vex-description pre:hover {\n",
       "          max-width : initial;\n",
       "          white-space: pre;\n",
       "        }</style>"
      ],
      "text/plain": [
       "<IPython.core.display.HTML object>"
      ]
     },
     "metadata": {},
     "output_type": "display_data"
    },
    {
     "data": {
      "text/html": [
       "<table class='table-striped'><thead><tr><th>#</th><th>Year</th><th>Month</th><th>DayofMonth</th><th>DayOfWeek</th><th>CRSDepTime</th><th>UniqueCarrier</th><th>FlightNum</th><th>DepDelay</th><th>Origin</th><th>Dest</th><th>Distance</th><th>Cancelled</th><th>LateAircraftDelay</th><th>random_index</th><th>label_encoded_UniqueCarrier</th><th>label_encoded_Origin</th><th>label_encoded_Dest</th><th>PCA_0</th><th>PCA_1</th><th>PCA_2</th><th>PCA_3</th><th>PCA_4</th><th>standard_scaled_PCA_0</th><th>standard_scaled_PCA_1</th><th>standard_scaled_PCA_2</th><th>standard_scaled_PCA_3</th><th>standard_scaled_PCA_4</th></tr></thead><tr><td><i style='opacity: 0.6'>0</i></td><td>2008.0</td><td>11.0</td><td>26.0</td><td>3.0</td><td>700.0</td><td>b'F9'</td><td>769.0</td><td>-9.0</td><td>b'DEN'</td><td>b'LAS'</td><td>629.0</td><td>0.0</td><td>nan</td><td>85996.0</td><td>8</td><td>80</td><td>156</td><td>1422.2623594867482</td><td>210.5541921183016</td><td>-645.135242667279</td><td>35.437974809160856</td><td>-62.90226390302372</td><td>0.7225134901882433</td><td>0.4000461101707819</td><td>-1.3918497089354378</td><td>0.4368157962340757</td><td>-0.7903074867926151</td></tr><tr><td><i style='opacity: 0.6'>1</i></td><td>2008.0</td><td>2.0</td><td>28.0</td><td>4.0</td><td>1155.0</td><td>b'WN'</td><td>1594.0</td><td>8.0</td><td>b'PHX'</td><td>b'SAN'</td><td>304.0</td><td>0.0</td><td>nan</td><td>4180892.0</td><td>17</td><td>220</td><td>248</td><td>568.5134813544995</td><td>474.6332765407769</td><td>-206.04052359437102</td><td>-127.96217740255055</td><td>-5.867351728151881</td><td>0.2888065319964867</td><td>0.9017877731499541</td><td>-0.4445229834415241</td><td>-1.5772882257225338</td><td>-0.07371772827688503</td></tr><tr><td><i style='opacity: 0.6'>2</i></td><td>2008.0</td><td>2.0</td><td>25.0</td><td>1.0</td><td>1715.0</td><td>b'DL'</td><td>1810.0</td><td>-9.0</td><td>b'LAX'</td><td>b'SLC'</td><td>590.0</td><td>0.0</td><td>nan</td><td>3909313.0</td><td>6</td><td>157</td><td>266</td><td>386.0532553341304</td><td>208.38632877719544</td><td>375.4701034717029</td><td>-99.01293004608692</td><td>-62.33876020134211</td><td>0.19611619688132131</td><td>0.3959272404001716</td><td>0.810059534292986</td><td>-1.220453824138108</td><td>-0.7832275954398824</td></tr><tr><td><i style='opacity: 0.6'>3</i></td><td>2008.0</td><td>10.0</td><td>19.0</td><td>7.0</td><td>1600.0</td><td>b'CO'</td><td>1676.0</td><td>1.0</td><td>b'IAH'</td><td>b'PHL'</td><td>1324.0</td><td>0.0</td><td>nan</td><td>412797.0</td><td>5</td><td>136</td><td>220</td><td>597.9956771641521</td><td>-512.6304567447355</td><td>311.260200121125</td><td>-39.98495842474462</td><td>-52.20150835248582</td><td>0.303783574769757</td><td>-0.9739811784919447</td><td>0.6715296116061142</td><td>-0.4928628553338266</td><td>-0.6558626083226493</td></tr><tr><td><i style='opacity: 0.6'>4</i></td><td>2008.0</td><td>2.0</td><td>14.0</td><td>4.0</td><td>610.0</td><td>b'OO'</td><td>4087.0</td><td>21.0</td><td>b'MSP'</td><td>b'SLC'</td><td>991.0</td><td>0.0</td><td>0.0</td><td>25735.0</td><td>14</td><td>199</td><td>266</td><td>-1837.3804974214122</td><td>-513.0826591974245</td><td>-674.8343655813935</td><td>-119.98099759241987</td><td>-38.60425063610675</td><td>-0.9333947334968643</td><td>-0.9748403484300396</td><td>-1.4559242050251933</td><td>-1.4789105550902848</td><td>-0.48502591809365947</td></tr><tr><td><i style='opacity: 0.6'>5</i></td><td>2008.0</td><td>2.0</td><td>4.0</td><td>1.0</td><td>1303.0</td><td>b'EV'</td><td>4453.0</td><td>-7.0</td><td>b'CAE'</td><td>b'ATL'</td><td>191.0</td><td>0.0</td><td>nan</td><td>2731238.0</td><td>7</td><td>50</td><td>18</td><td>-2286.029131265478</td><td>294.25585965415877</td><td>-37.153856808808065</td><td>156.3135516579839</td><td>4.689002312348421</td><td>-1.161309568017157</td><td>0.5590765534768649</td><td>-0.08015774269495074</td><td>1.92675311998946</td><td>0.05891288171678525</td></tr><tr><td><i style='opacity: 0.6'>6</i></td><td>2008.0</td><td>1.0</td><td>6.0</td><td>7.0</td><td>1440.0</td><td>b'WN'</td><td>2032.0</td><td>26.0</td><td>b'LAS'</td><td>b'BNA'</td><td>1588.0</td><td>0.0</td><td>nan</td><td>3445562.0</td><td>17</td><td>155</td><td>35</td><td>271.91023851084714</td><td>-822.4902858551108</td><td>172.91294282261285</td><td>96.82883238429785</td><td>75.7381900500801</td><td>0.13813120633754664</td><td>-1.5627047659289588</td><td>0.37305174670630414</td><td>1.1935321852937586</td><td>0.9515787655112196</td></tr><tr><td><i style='opacity: 0.6'>7</i></td><td>2008.0</td><td>12.0</td><td>10.0</td><td>3.0</td><td>859.0</td><td>b'B6'</td><td>717.0</td><td>12.0</td><td>b'JFK'</td><td>b'SJU'</td><td>1597.0</td><td>0.0</td><td>nan</td><td>5415374.0</td><td>4</td><td>150</td><td>265</td><td>1578.902463088658</td><td>-734.0140644677964</td><td>-418.2290040369873</td><td>-80.33060994625228</td><td>-75.4594548362393</td><td>0.802087126656908</td><td>-1.394602825746655</td><td>-0.902309901921536</td><td>-0.990171688269566</td><td>-0.9480767210272445</td></tr><tr><td><i style='opacity: 0.6'>8</i></td><td>2008.0</td><td>7.0</td><td>22.0</td><td>2.0</td><td>2020.0</td><td>b'AA'</td><td>1952.0</td><td>39.0</td><td>b'SJU'</td><td>b'FLL'</td><td>1046.0</td><td>0.0</td><td>0.0</td><td>5562161.0</td><td>1</td><td>264</td><td>105</td><td>294.7874934371267</td><td>-236.7073509176029</td><td>711.9523668137422</td><td>-32.67672973996927</td><td>123.25936409443233</td><td>0.14975291958367185</td><td>-0.44973626044079323</td><td>1.5360045909577822</td><td>-0.4027801192522032</td><td>1.5486373973965042</td></tr><tr><td><i style='opacity: 0.6'>9</i></td><td>2008.0</td><td>5.0</td><td>31.0</td><td>6.0</td><td>940.0</td><td>b'US'</td><td>1433.0</td><td>0.0</td><td>b'CLT'</td><td>b'LAX'</td><td>2125.0</td><td>0.0</td><td>nan</td><td>3974301.0</td><td>16</td><td>63</td><td>158</td><td>923.9832067002451</td><td>-1326.7231112950099</td><td>-292.71761488794465</td><td>64.50374080539413</td><td>-77.42215125647633</td><td>0.46938620508049755</td><td>-2.5207307183370613</td><td>-0.6315248340760433</td><td>0.7950864306360139</td><td>-0.9727361462842713</td></tr></table>"
      ],
      "text/plain": [
       "<vaex.dataset.DatasetArrays at 0x11c17f3c8>"
      ]
     },
     "execution_count": 11,
     "metadata": {},
     "output_type": "execute_result"
    }
   ],
   "source": [
    "df_train.head(10)"
   ]
  },
  {
   "cell_type": "markdown",
   "metadata": {},
   "source": [
    "## Predictions with `LightGBM`"
   ]
  },
  {
   "cell_type": "markdown",
   "metadata": {},
   "source": [
    "### Create the target variable"
   ]
  },
  {
   "cell_type": "code",
   "execution_count": 12,
   "metadata": {
    "ExecuteTime": {
     "end_time": "2018-11-14T09:12:18.601686Z",
     "start_time": "2018-11-14T09:12:18.598218Z"
    }
   },
   "outputs": [],
   "source": [
    "# Significant delay if it is longer than 15 minutes\n",
    "df_train['label'] = (df.DepDelay > 15)*1"
   ]
  },
  {
   "cell_type": "code",
   "execution_count": 13,
   "metadata": {
    "ExecuteTime": {
     "end_time": "2018-11-14T09:13:24.792404Z",
     "start_time": "2018-11-14T09:12:34.772730Z"
    }
   },
   "outputs": [],
   "source": [
    "import vaex.ml.lightgbm\n",
    "\n",
    "# The target label to predict\n",
    "label = 'label'\n",
    "\n",
    "# Features to train on\n",
    "train_features = ['standard_scaled_PCA_0', 'standard_scaled_PCA_1', \n",
    "                  'standard_scaled_PCA_2', 'standard_scaled_PCA_3', \n",
    "                  'standard_scaled_PCA_4']\n",
    "\n",
    "# Define the LightGBM parameters\n",
    "params = {\n",
    "    'boosting': 'gbdt',\n",
    "    'max_depth': 15,\n",
    "    'learning_rate': 0.1,\n",
    "    'num_leaves': 31,\n",
    "    'application': 'binary',\n",
    "    'metric': 'binary_logloss',\n",
    "    'min_data_in_leaf': 20,\n",
    "    'subsample': 0.80,\n",
    "    'colsample_bytree': 0.80,\n",
    "    'reg_lambda': 1.5,\n",
    "    'reg_alpha': 0.5,\n",
    "}\n",
    "\n",
    "# Training the LightGBM model: Scikit-learn like API\n",
    "booster = vaex.ml.lightgbm.LightGBMModel(features=train_features, num_round=1000, param=params)\n",
    "booster.fit(df_train, label=df_train['label'])\n",
    "\n",
    "# # Training the LightGBM model directly from vaex\n",
    "# booster = df_train.ml.lightgbm_model(label=label, param=params, num_round=1000, features=train_features)"
   ]
  },
  {
   "cell_type": "markdown",
   "metadata": {},
   "source": [
    "### Evaluate on the training set"
   ]
  },
  {
   "cell_type": "code",
   "execution_count": 14,
   "metadata": {
    "ExecuteTime": {
     "end_time": "2018-11-14T09:13:43.616130Z",
     "start_time": "2018-11-14T09:13:24.795851Z"
    }
   },
   "outputs": [
    {
     "name": "stdout",
     "output_type": "stream",
     "text": [
      "Performance of the classifier on the training set:\n",
      "Accuracy: 0.8152317630248171\n",
      "ROC-AUC: 0.7130886334911247\n"
     ]
    }
   ],
   "source": [
    "# Classical way - outputs a numpy array\n",
    "# train_pred = booster.predict(df_train)\n",
    "\n",
    "# Create a virtual column with the predicted probabilities of the classes\n",
    "df_train_pred = booster.transform(df_train)\n",
    "\n",
    "# Still, we can easily extract the numpy array for the vaex dataset:\n",
    "train_pred = df_train_pred.lightgbm_prediction.values\n",
    "\n",
    "# See the performance of the model\n",
    "print('Performance of the classifier on the training set:')\n",
    "print('Accuracy:', accuracy_score(df_train.evaluate('label'), np.round(train_pred).astype(np.int8)))\n",
    "print('ROC-AUC:', roc_auc_score(df_train.evaluate('label'), train_pred))"
   ]
  },
  {
   "cell_type": "markdown",
   "metadata": {},
   "source": [
    "## The `vaex` _state_: all the pipeline you need"
   ]
  },
  {
   "cell_type": "code",
   "execution_count": 15,
   "metadata": {
    "ExecuteTime": {
     "end_time": "2018-11-14T09:13:43.817855Z",
     "start_time": "2018-11-14T09:13:43.618318Z"
    }
   },
   "outputs": [],
   "source": [
    "df_train_pred.state_write('/Users/jovan/Desktop/vaex-demo/deployable_model.json')"
   ]
  }
 ],
 "metadata": {
  "kernelspec": {
   "display_name": "Python 3",
   "language": "python",
   "name": "python3"
  },
  "language_info": {
   "codemirror_mode": {
    "name": "ipython",
    "version": 3
   },
   "file_extension": ".py",
   "mimetype": "text/x-python",
   "name": "python",
   "nbconvert_exporter": "python",
   "pygments_lexer": "ipython3",
   "version": "3.6.7"
  }
 },
 "nbformat": 4,
 "nbformat_minor": 2
}
