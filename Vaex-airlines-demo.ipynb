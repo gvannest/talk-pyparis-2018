{
 "cells": [
  {
   "cell_type": "markdown",
   "metadata": {},
   "source": [
    "# Data science meet-up: Utrecht 21-June-2018\n",
    "\n",
    "# `Vaex` demo on Machine Learning\n",
    "\n",
    "# Goal: predict if a flight is likely to be delayed"
   ]
  },
  {
   "cell_type": "code",
   "execution_count": 1,
   "metadata": {
    "ExecuteTime": {
     "end_time": "2018-11-13T17:57:32.684066Z",
     "start_time": "2018-11-13T17:57:30.734547Z"
    }
   },
   "outputs": [],
   "source": [
    "import lightgbm\n",
    "import numpy as np\n",
    "from sklearn.metrics import roc_auc_score, accuracy_score\n",
    "\n",
    "import vaex \n",
    "import vaex.ml"
   ]
  },
  {
   "cell_type": "markdown",
   "metadata": {},
   "source": [
    "### Read in the data\n",
    "\n",
    "- If `Pandas` can read it, `vaex` can read it too!\n",
    "- Most efficint is to use the **hdf5** file format\n",
    "- Easy to convert to **hdf5** with `vaex` even if the data is in multiple text (csv) files"
   ]
  },
  {
   "cell_type": "code",
   "execution_count": 2,
   "metadata": {
    "ExecuteTime": {
     "end_time": "2018-06-21T12:00:43.091811Z",
     "start_time": "2018-06-21T12:00:42.270431Z"
    }
   },
   "outputs": [],
   "source": [
    "### Read and convert to HDF5 all CSV files in the relevant directory\n",
    "# ds = vaex.open(path='./airline-data/20*.csv', convert='airline-data.hdf5')\n",
    "\n",
    "\n",
    "# If the file exists, just open the hdf5 version\n",
    "ds = vaex.open(path='./airline-data/demo-2008.hdf5')\n"
   ]
  },
  {
   "cell_type": "markdown",
   "metadata": {},
   "source": [
    "### What is in the dataset"
   ]
  },
  {
   "cell_type": "code",
   "execution_count": 3,
   "metadata": {},
   "outputs": [
    {
     "data": {
      "text/html": [
       "<style>.vaex-description pre {\n",
       "          max-width : 450px;\n",
       "          white-space : nowrap;\n",
       "          overflow : hidden;\n",
       "          text-overflow: ellipsis;\n",
       "        }\n",
       "\n",
       "        .vex-description pre:hover {\n",
       "          max-width : initial;\n",
       "          white-space: pre;\n",
       "        }</style>"
      ],
      "text/plain": [
       "<IPython.core.display.HTML object>"
      ]
     },
     "metadata": {},
     "output_type": "display_data"
    },
    {
     "data": {
      "text/html": [
       "<div><h2>demo-2008</h2> <b>rows</b>: 1,401,946</div><div><b>path</b>: <i>/Users/jovan/Desktop/vaex-demo/airline-data/demo-2008.hdf5</i></div><div><b>Description</b>: file exported by vaex, by user jovan, on date 2018-06-21 11:43:55.364762, from source /has/no/path/arraysprevious description:\n",
       "file exported by vaex, by user jovan, on date 2018-06-18 16:50:28.980241, from source /Users/jovan/Desktop/vaex-demo/airline-data/shuffled2008.hdf5previous description:\n",
       "file exported by vaex, by user jovan, on date 2018-06-18 13:25:46.083332, from source /Users/jovan/Desktop/vaex-demo/airline-data/2008.hdf5previous description:\n",
       "file exported by vaex, by user jovan, on date 2018-06-18 12:02:18.610812, from source /has/no/path/pandas</div><h2>Columns:</h2><table class='table-striped'><thead><tr><th>column</th><th>type</th><th>unit</th><th>description</th><th>expression</th></tr></thead><tr><td>Year</td><td>float64</td><td></td><td ><pre></pre></td><td></td></tr><tr><td>Month</td><td>float64</td><td></td><td ><pre></pre></td><td></td></tr><tr><td>DayofMonth</td><td>float64</td><td></td><td ><pre></pre></td><td></td></tr><tr><td>DayOfWeek</td><td>float64</td><td></td><td ><pre></pre></td><td></td></tr><tr><td>CRSDepTime</td><td>float64</td><td></td><td ><pre></pre></td><td></td></tr><tr><td>UniqueCarrier</td><td>bytes80</td><td></td><td ><pre></pre></td><td></td></tr><tr><td>FlightNum</td><td>float64</td><td></td><td ><pre></pre></td><td></td></tr><tr><td>DepDelay</td><td>float64</td><td></td><td ><pre></pre></td><td></td></tr><tr><td>Origin</td><td>bytes24</td><td></td><td ><pre></pre></td><td></td></tr><tr><td>Dest</td><td>bytes24</td><td></td><td ><pre></pre></td><td></td></tr><tr><td>Distance</td><td>float64</td><td></td><td ><pre></pre></td><td></td></tr><tr><td>Cancelled</td><td>float64</td><td></td><td ><pre></pre></td><td></td></tr><tr><td>LateAircraftDelay</td><td>float64</td><td></td><td ><pre></pre></td><td></td></tr><tr><td>random_index</td><td>float64</td><td></td><td ><pre></pre></td><td></td></tr></table><h2>Data:</h2><table class='table-striped'><thead><tr><th>#</th><th>Year</th><th>Month</th><th>DayofMonth</th><th>DayOfWeek</th><th>CRSDepTime</th><th>UniqueCarrier</th><th>FlightNum</th><th>DepDelay</th><th>Origin</th><th>Dest</th><th>Distance</th><th>Cancelled</th><th>LateAircraftDelay</th><th>random_index</th></tr></thead><tr><td><i style='opacity: 0.6'>0</i></td><td>2008.0</td><td>7.0</td><td>21.0</td><td>1.0</td><td>1325.0</td><td>b'AS'</td><td>852.0</td><td>7.0</td><td>b'HNL'</td><td>b'SEA'</td><td>2677.0</td><td>0.0</td><td>nan</td><td>3837252.0</td></tr><tr><td><i style='opacity: 0.6'>1</i></td><td>2008.0</td><td>12.0</td><td>6.0</td><td>6.0</td><td>1733.0</td><td>b'9E'</td><td>2918.0</td><td>-5.0</td><td>b'DTW'</td><td>b'ITH'</td><td>353.0</td><td>0.0</td><td>0.0</td><td>6177194.0</td></tr><tr><td><i style='opacity: 0.6'>2</i></td><td>2008.0</td><td>2.0</td><td>9.0</td><td>6.0</td><td>1345.0</td><td>b'XE'</td><td>2790.0</td><td>50.0</td><td>b'RDU'</td><td>b'EWR'</td><td>416.0</td><td>0.0</td><td>48.0</td><td>1489537.0</td></tr><tr><td><i style='opacity: 0.6'>3</i></td><td>2008.0</td><td>11.0</td><td>30.0</td><td>7.0</td><td>1802.0</td><td>b'US'</td><td>1511.0</td><td>-7.0</td><td>b'PHX'</td><td>b'LAX'</td><td>370.0</td><td>0.0</td><td>nan</td><td>6487323.0</td></tr><tr><td><i style='opacity: 0.6'>4</i></td><td>2008.0</td><td>6.0</td><td>25.0</td><td>3.0</td><td>955.0</td><td>b'US'</td><td>320.0</td><td>22.0</td><td>b'LAS'</td><td>b'ORD'</td><td>1515.0</td><td>0.0</td><td>0.0</td><td>762415.0</td></tr><td>...</td><td>...</td><td>...</td><td>...</td><td>...</td><td>...</td><td>...</td><td>...</td><td>...</td><td>...</td><td>...</td><td>...</td><td>...</td><td>...</td><td>...</td><tr><td><i style='opacity: 0.6'>1,401,941</i></td><td>2008.0</td><td>3.0</td><td>27.0</td><td>4.0</td><td>1645.0</td><td>b'AA'</td><td>743.0</td><td>-3.0</td><td>b'DFW'</td><td>b'SNA'</td><td>1205.0</td><td>0.0</td><td>nan</td><td>3893528.0</td></tr><tr><td><i style='opacity: 0.6'>1,401,942</i></td><td>2008.0</td><td>8.0</td><td>2.0</td><td>6.0</td><td>2011.0</td><td>b'US'</td><td>587.0</td><td>-7.0</td><td>b'PHX'</td><td>b'GEG'</td><td>1020.0</td><td>0.0</td><td>nan</td><td>1165052.0</td></tr><tr><td><i style='opacity: 0.6'>1,401,943</i></td><td>2008.0</td><td>2.0</td><td>22.0</td><td>5.0</td><td>2045.0</td><td>b'WN'</td><td>1559.0</td><td>84.0</td><td>b'ALB'</td><td>b'BWI'</td><td>288.0</td><td>0.0</td><td>78.0</td><td>4066956.0</td></tr><tr><td><i style='opacity: 0.6'>1,401,944</i></td><td>2008.0</td><td>3.0</td><td>24.0</td><td>1.0</td><td>1255.0</td><td>b'XE'</td><td>215.0</td><td>-3.0</td><td>b'COS'</td><td>b'SMF'</td><td>911.0</td><td>0.0</td><td>nan</td><td>5127319.0</td></tr><tr><td><i style='opacity: 0.6'>1,401,945</i></td><td>2008.0</td><td>10.0</td><td>9.0</td><td>4.0</td><td>635.0</td><td>b'WN'</td><td>1572.0</td><td>0.0</td><td>b'ORF'</td><td>b'BWI'</td><td>159.0</td><td>0.0</td><td>nan</td><td>2509035.0</td></tr></table>"
      ],
      "text/plain": [
       "<IPython.core.display.HTML object>"
      ]
     },
     "metadata": {},
     "output_type": "display_data"
    }
   ],
   "source": [
    "ds.info()"
   ]
  },
  {
   "cell_type": "markdown",
   "metadata": {},
   "source": [
    "### Split the data into train and test samples"
   ]
  },
  {
   "cell_type": "code",
   "execution_count": 3,
   "metadata": {
    "ExecuteTime": {
     "end_time": "2018-06-21T12:00:45.691980Z",
     "start_time": "2018-06-21T12:00:45.686490Z"
    }
   },
   "outputs": [
    {
     "name": "stderr",
     "output_type": "stream",
     "text": [
      "/Users/jovan/Work/vaex/packages/vaex-core/vaex/ml/__init__.py:176: UserWarning: make sure the dataset is shuffled\n",
      "  warnings.warn('make sure the dataset is shuffled')\n"
     ]
    }
   ],
   "source": [
    "# Ordered splitting\n",
    "ds_train, ds_test = ds.ml.train_test_split(test_size=0.25)\n",
    "\n",
    "# Random splitting\n",
    "# ds.split_random(test_size=0.25)"
   ]
  },
  {
   "cell_type": "markdown",
   "metadata": {},
   "source": [
    "### Check for NaNs"
   ]
  },
  {
   "cell_type": "code",
   "execution_count": 4,
   "metadata": {
    "ExecuteTime": {
     "end_time": "2018-06-21T12:00:47.495777Z",
     "start_time": "2018-06-21T12:00:47.415075Z"
    }
   },
   "outputs": [
    {
     "name": "stdout",
     "output_type": "stream",
     "text": [
      "Feature             NaNs?           dtype     \n",
      "\n",
      "Year                False           float64   \n",
      "Month               False           float64   \n",
      "DayofMonth          False           float64   \n",
      "DayOfWeek           False           float64   \n",
      "CRSDepTime          False           float64   \n",
      "UniqueCarrier       Not a num type  |S10      \n",
      "FlightNum           False           float64   \n",
      "DepDelay            True            float64   \n",
      "Origin              Not a num type  |S3       \n",
      "Dest                Not a num type  |S3       \n",
      "Distance            False           float64   \n",
      "Cancelled           False           float64   \n",
      "LateAircraftDelay   True            float64   \n",
      "random_index        False           float64   \n"
     ]
    }
   ],
   "source": [
    "# Check for Nans\n",
    "print('%-19s %-15s %-10s' % ('Feature', 'NaNs?', 'dtype'))\n",
    "print()\n",
    "for i,v in enumerate(ds.column_names):\n",
    "    try:\n",
    "        print('%-19s %-15s %-10s' % (v, np.isnan(ds_train.evaluate(v)).any(), ds_train[v].dtype))\n",
    "    except:\n",
    "        print('%-19s %-15s %-10s' % (v, 'Not a num type', ds_train[v].dtype))"
   ]
  },
  {
   "cell_type": "markdown",
   "metadata": {},
   "source": [
    "What to do with the missing/NaN values?\n",
    "\n",
    "LateAircraftDelay: NaN if it does not happen, so safe to fill with 0.\n",
    "\n",
    "DepDelay: one idea is to fill with the mean delay.. but let's first check whether this is different for the cancelled and the departed flights:"
   ]
  },
  {
   "cell_type": "markdown",
   "metadata": {},
   "source": [
    "### Deal with NaNs"
   ]
  },
  {
   "cell_type": "code",
   "execution_count": 5,
   "metadata": {
    "ExecuteTime": {
     "end_time": "2018-06-21T12:00:54.042856Z",
     "start_time": "2018-06-21T12:00:53.994780Z"
    }
   },
   "outputs": [
    {
     "name": "stdout",
     "output_type": "stream",
     "text": [
      "Mean departure delay for departed flights is  9 +/- 35 minutes.\n",
      "Mean departure delay for cancelled flights is 42 +/- 88 minutes.\n",
      "Mean departure delay all flights is  9 +/- 35 minutes.\n",
      "\n"
     ]
    }
   ],
   "source": [
    "# Fill the NaNs of the \"LateAircraftDelay\" column with 0s:\n",
    "ds_train = ds_train.fillna(value=0, column_names=['LateAircraftDelay'])\n",
    "\n",
    "### Basic stats for the DepDelay:\n",
    "mean_departed  = ds_train.mean('DepDelay', selection='Cancelled==0')\n",
    "std_departed   = ds_train.std('DepDelay', selection='Cancelled==0')\n",
    "mean_cancelled = ds_train.mean('DepDelay', selection='Cancelled==1')\n",
    "std_cancelled  = ds_train.std('DepDelay', selection='Cancelled==1')\n",
    "mean_all       = ds_train.mean('DepDelay', selection=None)\n",
    "std_all        = ds_train.std('DepDelay', selection=None)\n",
    "print('Mean departure delay for departed flights is %2i +/- %2i minutes.' % (mean_departed, std_departed))\n",
    "print('Mean departure delay for cancelled flights is %2i +/- %2i minutes.' % (mean_cancelled, std_cancelled))\n",
    "print('Mean departure delay all flights is %2i +/- %2i minutes.' % (mean_all, std_all))\n",
    "print()\n",
    "\n",
    "# For starters, best thing seems to drop the flights with missing DepDelay entry.\n",
    "ds_train = ds_train.dropna(column_names=['DepDelay'])"
   ]
  },
  {
   "cell_type": "markdown",
   "metadata": {},
   "source": [
    "### One-hot encoding / Label encoding"
   ]
  },
  {
   "cell_type": "code",
   "execution_count": 6,
   "metadata": {
    "ExecuteTime": {
     "end_time": "2018-06-21T12:01:02.872762Z",
     "start_time": "2018-06-21T12:00:59.311242Z"
    }
   },
   "outputs": [],
   "source": [
    "# ds_train.ml.one_hot_encoding(expression='UniqueCarrier')\n",
    "# ds_train.ml.one_hot_encoding(expression='Origin')\n",
    "# ds_train.ml.one_hot_encoding(expression='Dest')\n",
    "\n",
    "# Scikit-learn like-API\n",
    "label_encoder = vaex.ml.LabelEncoder(features=['UniqueCarrier','Origin','Dest'])\n",
    "label_encoder.fit(ds_train)\n",
    "ds_train = label_encoder.transform(ds_train)\n",
    "\n",
    "# # Faster vaex-API\n",
    "# label_encoder = ds_train.ml.label_encoder(features=['UniqueCarrier','Origin','Dest'])\n",
    "# label_encoder.transform(ds_train)"
   ]
  },
  {
   "cell_type": "markdown",
   "metadata": {},
   "source": [
    "### PCA transformation"
   ]
  },
  {
   "cell_type": "code",
   "execution_count": 11,
   "metadata": {
    "ExecuteTime": {
     "end_time": "2018-06-21T12:06:35.055945Z",
     "start_time": "2018-06-21T12:06:33.065509Z"
    }
   },
   "outputs": [
    {
     "name": "stdout",
     "output_type": "stream",
     "text": [
      "[########################################]:  100.00% elapsed time  :        1s =  0.0m =  0.0h\n",
      "[########################################]:  100.00% elapsed time  :        0s =  0.0m =  0.0h\n",
      " "
     ]
    }
   ],
   "source": [
    "### Figure out which columns to use for the PCA as input\n",
    "allcols = np.array(ds_train.get_column_names(virtual=True, hidden=True, strings=True))\n",
    "exclude = ['Cancelled','__original_DepDelay', '__original_LateAircraftDelay', 'DepDelay',\n",
    "           'Origin','Dest', 'UniqueCarrier', 'random_index']\n",
    "pca_features = allcols[np.in1d(allcols, exclude, invert=True)].tolist()\n",
    "\n",
    "# The PCA: Scikit-learn like API\n",
    "pca = vaex.ml.PCA(n_components=5, features=pca_features)\n",
    "pca.fit(ds_train, progress=True)\n",
    "ds_train = pca.transform(ds_train)\n",
    "\n",
    "# # The PCA: faster vaex-API\n",
    "# pca = ds_train.ml.pca(n_components=5, features=pca_features, progress=True)\n",
    "# ds_train = pca.transform(ds_train)"
   ]
  },
  {
   "cell_type": "markdown",
   "metadata": {},
   "source": [
    "### Scaling: MinMaxScaler / StandardScaler"
   ]
  },
  {
   "cell_type": "code",
   "execution_count": 13,
   "metadata": {
    "ExecuteTime": {
     "end_time": "2018-06-21T12:07:04.735358Z",
     "start_time": "2018-06-21T12:07:03.464672Z"
    }
   },
   "outputs": [],
   "source": [
    "# Features to scale\n",
    "scale_features = ['PCA_0', 'PCA_1', 'PCA_2', 'PCA_3', 'PCA_4']\n",
    "\n",
    "# Scaling the data (Standard Scaler): Scikit-learn like API\n",
    "scaler = vaex.ml.StandardScaler(features=scale_features)\n",
    "scaler.fit(ds_train)\n",
    "ds_train = scaler.transform(ds_train)\n",
    "\n",
    "# # Scaling the data (Standard Scaler): Faster vaex-API\n",
    "# scaler = ds_train.ml.standard_scaler(features=scale_features)\n",
    "# ds_train = scaler.transform(ds_train)"
   ]
  },
  {
   "cell_type": "markdown",
   "metadata": {},
   "source": [
    "## Predictions with `LightGBM`"
   ]
  },
  {
   "cell_type": "markdown",
   "metadata": {},
   "source": [
    "### Create the target variable"
   ]
  },
  {
   "cell_type": "code",
   "execution_count": 14,
   "metadata": {
    "ExecuteTime": {
     "end_time": "2018-06-21T12:07:09.092388Z",
     "start_time": "2018-06-21T12:07:09.089480Z"
    }
   },
   "outputs": [],
   "source": [
    "# Significant delay if it is longer than 15 minutes\n",
    "ds_train['label'] = (ds.DepDelay > 15)*1"
   ]
  },
  {
   "cell_type": "code",
   "execution_count": 15,
   "metadata": {
    "ExecuteTime": {
     "end_time": "2018-06-21T12:08:04.303200Z",
     "start_time": "2018-06-21T12:07:11.128176Z"
    }
   },
   "outputs": [],
   "source": [
    "# The target label to predict\n",
    "label = 'label'\n",
    "\n",
    "# Features to train on\n",
    "train_features = ['standard_scaled_PCA_0', 'standard_scaled_PCA_1', \n",
    "                  'standard_scaled_PCA_2', 'standard_scaled_PCA_3', \n",
    "                  'standard_scaled_PCA_4']\n",
    "\n",
    "# Define the LightGBM parameters\n",
    "params = {\n",
    "    'boosting': 'gbdt',\n",
    "    'max_depth': 15,\n",
    "    'learning_rate': 0.1,\n",
    "    'num_leaves': 31,\n",
    "    'application': 'binary',\n",
    "    'metric': 'binary_logloss',\n",
    "    'min_data_in_leaf': 20,\n",
    "    'subsample': 0.80,\n",
    "    'colsample_bytree': 0.80,\n",
    "    'reg_lambda': 1.5,\n",
    "    'reg_alpha': 0.5,\n",
    "}\n",
    "\n",
    "### Training the LightGBM model directly from vaex\n",
    "booster = ds_train.ml.lightgbm_model(label=label, param=params, num_round=1000, features=train_features)"
   ]
  },
  {
   "cell_type": "markdown",
   "metadata": {},
   "source": [
    "### Evaluate on the training set"
   ]
  },
  {
   "cell_type": "code",
   "execution_count": 16,
   "metadata": {
    "ExecuteTime": {
     "end_time": "2018-06-21T12:08:33.224867Z",
     "start_time": "2018-06-21T12:08:13.508971Z"
    }
   },
   "outputs": [
    {
     "name": "stdout",
     "output_type": "stream",
     "text": [
      "Performance of the classifier on the training set:\n",
      "Accuracy: 0.816690740441\n",
      "ROC-AUC: 0.717267970462\n"
     ]
    }
   ],
   "source": [
    "# Classical way - outputs a numpy array\n",
    "# train_pred = booster.predict(ds_train)\n",
    "\n",
    "# Create a virtual column with the predicted probabilities of the classes\n",
    "ds_train_pred = booster.transform(ds_train)\n",
    "\n",
    "# Still, we can easily extract the numpy array for the vaex dataset:\n",
    "train_pred = ds_train_pred.lightgbm_prediction.values\n",
    "\n",
    "# See the performance of the model\n",
    "print('Performance of the classifier on the training set:')\n",
    "print('Accuracy:', accuracy_score(ds_train.evaluate('label'), np.round(train_pred).astype(np.int8)))\n",
    "print('ROC-AUC:', roc_auc_score(ds_train.evaluate('label'), train_pred))"
   ]
  },
  {
   "cell_type": "markdown",
   "metadata": {},
   "source": [
    "## The `vaex` _state_: all the pipeline you need"
   ]
  },
  {
   "cell_type": "code",
   "execution_count": 17,
   "metadata": {
    "ExecuteTime": {
     "end_time": "2018-06-21T12:08:55.796927Z",
     "start_time": "2018-06-21T12:08:55.621187Z"
    }
   },
   "outputs": [],
   "source": [
    "ds_train_pred.state_write('/Users/jovan/Desktop/vaex-demo/deployable_model.json')"
   ]
  }
 ],
 "metadata": {
  "kernelspec": {
   "display_name": "Python 3",
   "language": "python",
   "name": "python3"
  },
  "language_info": {
   "codemirror_mode": {
    "name": "ipython",
    "version": 3
   },
   "file_extension": ".py",
   "mimetype": "text/x-python",
   "name": "python",
   "nbconvert_exporter": "python",
   "pygments_lexer": "ipython3",
   "version": "3.6.7"
  }
 },
 "nbformat": 4,
 "nbformat_minor": 2
}
